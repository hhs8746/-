{
 "cells": [
  {
   "cell_type": "code",
   "execution_count": null,
   "id": "8648ca1a-1f82-4096-86c0-b61a7ca74baa",
   "metadata": {},
   "outputs": [],
   "source": [
    "import pandas as pd\n",
    "import numpy as np\n",
    "bike=pd.read_csv(\"train.csv\",encoding='utf-8')"
   ]
  },
  {
   "cell_type": "code",
   "execution_count": null,
   "id": "6874d09e-e9b8-440f-903a-39e6f4750547",
   "metadata": {},
   "outputs": [],
   "source": [
    "#날짜를 인덱스화 한다.\n",
    "bike['일시']=bike['일시'].astype('str')\n",
    "bike['일시']=pd.to_datetime(bike['일시'])\n",
    "bike.set_index('일시',inplace=True)\n",
    "bike['ds']=bike.index\n"
   ]
  },
  {
   "cell_type": "code",
   "execution_count": null,
   "id": "cb7750f1-d5c5-4eaa-8e0a-abf71c94c6f2",
   "metadata": {},
   "outputs": [],
   "source": [
    "#그래프를 그릴 모듈과 prophet 모듈 import\n",
    "from matplotlib import pyplot\n",
    "from prophet import Prophet\n",
    "from sklearn.metrics import mean_absolute_error\n",
    "import seaborn as sns\n",
    "import matplotlib.pyplot as plt\n",
    "import warnings\n",
    "warnings.filterwarnings(action='ignore') "
   ]
  },
  {
   "cell_type": "code",
   "execution_count": null,
   "id": "40baeed2-cbc9-4775-9221-28cfc758ee91",
   "metadata": {},
   "outputs": [],
   "source": [
    "#광동구 동대문구 그래프\n",
    "plt.plot(bike['광동구'])\n",
    "plt.plot(bike['동대문구'])\n",
    "plt.show()"
   ]
  },
  {
   "cell_type": "code",
   "execution_count": null,
   "id": "54f91b21-8756-4fd0-818f-3379451479ed",
   "metadata": {},
   "outputs": [],
   "source": [
    "#성동구 중랑구 그래프\n",
    "plt.plot(bike['성동구'])\n",
    "plt.plot(bike['중랑구'])\n",
    "plt.show()"
   ]
  },
  {
   "cell_type": "code",
   "execution_count": null,
   "id": "940bbf82-3ffc-44fb-99c9-c0fad0a6bfc7",
   "metadata": {},
   "outputs": [],
   "source": [
    "#Prophet은 date열 이름이 ds 값의 열 이름이 y이어야 하므로 조건에 맞는 데이터 프레임을 만든다.\n",
    "gwang2=pd.DataFrame({\n",
    "    'ds' : bike['ds'],\n",
    "    'y' : bike['광진구']\n",
    "})\n",
    "dong2 = pd.DataFrame({\n",
    "    'ds' : bike['ds'],\n",
    "    'y' : bike['동대문구']\n",
    "})\n",
    "sung2 = pd.DataFrame({\n",
    "    'ds' : bike['ds'],\n",
    "    'y' : bike['성동구']\n",
    "})\n",
    "jung2 = pd.DataFrame({\n",
    "    'ds' : bike['ds'],\n",
    "    'y' : bike['중랑구']\n",
    "})\n"
   ]
  },
  {
   "cell_type": "code",
   "execution_count": null,
   "id": "290196ff-cba7-497a-a0b5-abbf5ef03c2c",
   "metadata": {},
   "outputs": [],
   "source": [
    "#주말을 반영하기 위해서 holiday이면 명절 이름이 나오고 아니면 non-holiday가 나오는 holiday_df2생성\n",
    "date_list2 = pd.date_range('2018-01-01', '2021-12-31')\n",
    "kr_holidays2 = holidays.KR()\n",
    "holiday_df2 = pd.DataFrame(columns=['ds','holiday'])\n",
    "holiday_df2['ds'] = sorted(date_list2)\n",
    "holiday_df2['holiday'] = holiday_df2.ds.apply(lambda x: kr_holidays2.get(x) if x in kr_holidays2 else 'non-holiday')"
   ]
  },
  {
   "cell_type": "code",
   "execution_count": null,
   "id": "393e0662-2a9a-42c3-807c-9a9aa2c189be",
   "metadata": {},
   "outputs": [],
   "source": [
    "#https://dacon.io/competitions/official/236029/codeshare/7311?page=1&dtype=recent를 참고했습니다\n",
    "#그리드 서치를 위한 parameter 묶음을 만든다.\n",
    "param_combined2 = [dict(zip(search_space2.keys(), v)) for v in itertools.product(*search_space2.values())]\n",
    "mapes = []\n",
    "for param in param_combined2:\n",
    "   m=Prophet(**param)\n",
    "   m.fit(gwang2)\n",
    "#발생한 모든 조합을 cross_validation 진행하며\n",
    "#initial: 2년(365*2일)을 학습 진행 후 period: 90일 단위로 horizon: 30일에 대한 평가를 진행한다.\n",
    "   cv_df=cross_validation(m,initial='730 days', period='90 days', horizon='30 days', parallel='processes')\n",
    "   df_p=performance_metrics(cv_df,rolling_window=1)\n",
    "   mapes.append(df_p['mae'].values[0])\n",
    "\n",
    "results_gwang2=pd.DataFrame(param_combined2)\n",
    "results_gwang2['mapes']=mapes\n",
    "Best_g=results_gwang.sort_values(by=['mapes'],axis=0).iloc[0][0:5]"
   ]
  },
  {
   "cell_type": "code",
   "execution_count": null,
   "id": "ac88801a-952e-4e9a-b2c7-a298858c1f61",
   "metadata": {},
   "outputs": [],
   "source": [
    "#상한과 하한을 지정해주면 하한 밑과 상한 위의 예측은 사라져서 성능 향상에 도움이 된다.\n",
    "#make_future_dataframe(periods=365)으로 2021년 12월 31까지었던 것을 2022년 12월 31일 까지로 늘려준다. \n",
    "future = m.make_future_dataframe(periods=365)\n",
    "#상한 20 하한 0\n",
    "future['cap']=20\n",
    "future['floor']=0"
   ]
  },
  {
   "cell_type": "code",
   "execution_count": null,
   "id": "d935be71-3d59-42b6-9690-9f5d97897d02",
   "metadata": {},
   "outputs": [],
   "source": [
    "#앞에서 구했던 best parameter값으로 모델을 구현한다.\n",
    "#상한 20 하한 0을 설정했고 따라서 growth='logistic'을 추가했다.\n",
    "#광진구부터 동대문구, 성동구, 중랑구 순으로 같은 방식으로 진행했다.\n",
    "gwang2['cap']=20\n",
    "gwang2['floor']=0\n",
    "m_g2=Prophet(changepoint_prior_scale=1,seasonality_prior_scale=1,holidays_prior_scale=1,seasonality_mode='additive',growth='logistic')\n",
    "m_g2.add_country_holidays(country_name='KR')\n",
    "m_g2.fit(gwang2)\n",
    "#모형으로 예측한 것을 그래프로 그렸다.\n",
    "fore = m_g2.predict(future)\n",
    "fig = m_g2.plot(fore)\n",
    "fig"
   ]
  },
  {
   "cell_type": "code",
   "execution_count": null,
   "id": "8e2e05de-5bb9-49ce-9c58-c102ec38141b",
   "metadata": {},
   "outputs": [],
   "source": []
  },
  {
   "cell_type": "code",
   "execution_count": null,
   "id": "04bd34da-b951-4f22-812e-c4235946f196",
   "metadata": {},
   "outputs": [],
   "source": []
  }
 ],
 "metadata": {
  "kernelspec": {
   "display_name": "Python 3 (ipykernel)",
   "language": "python",
   "name": "python3"
  },
  "language_info": {
   "codemirror_mode": {
    "name": "ipython",
    "version": 3
   },
   "file_extension": ".py",
   "mimetype": "text/x-python",
   "name": "python",
   "nbconvert_exporter": "python",
   "pygments_lexer": "ipython3",
   "version": "3.10.5"
  }
 },
 "nbformat": 4,
 "nbformat_minor": 5
}
